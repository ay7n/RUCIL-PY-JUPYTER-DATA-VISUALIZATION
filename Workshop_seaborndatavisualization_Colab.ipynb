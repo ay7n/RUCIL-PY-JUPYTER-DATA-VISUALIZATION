{
 "cells": [
  {
   "cell_type": "markdown",
   "metadata": {
    "id": "ZKiKUQsdA_e1"
   },
   "source": [
    "#                                       Data Visualization"
   ]
  },
  {
   "cell_type": "markdown",
   "metadata": {
    "id": "I9KlcDqEA_e5"
   },
   "source": [
    "**The ability to produce meaningful and insightful data visualizations is an essential part of your skill set as a data analyst.Data visualization is a graphical representation of information and data. By using various visual techniques like graphs and maps, data visualization provides an easier way to see and understand trends, outliers, correlations and patterns in data that might go undetected in raw data. In the world of Big Data, data visualization tools and technologies are essential to analyze massive amounts of information and make data-driven decisions. \n",
    "Data visualization is a good technique to use before performing any formal analysis**\n"
   ]
  },
  {
   "cell_type": "markdown",
   "metadata": {
    "id": "dsJm-2goA_e6"
   },
   "source": [
    "\n",
    "\n",
    "\n",
    "# An introduction to seaborn"
   ]
  },
  {
   "cell_type": "markdown",
   "metadata": {
    "id": "jh93tfy1A_e6"
   },
   "source": [
    "**Seaborn is a library for making statistical graphics in Python. It builds on top of matplotlib and integrates closely with pandas data structures.**"
   ]
  },
  {
   "cell_type": "markdown",
   "metadata": {
    "id": "oxlYZfeyA_e7"
   },
   "source": [
    "**I recommend to keep the data and jupyter notebook in the same folder**\n",
    "**If you have not done so, you have to either provide the path of the file or change the working directory as suggested below**"
   ]
  },
  {
   "cell_type": "code",
   "execution_count": null,
   "metadata": {
    "id": "HRkkswqcA_e7"
   },
   "outputs": [],
   "source": [
    "# to change the working directory\n",
    "# this is just an example, I have commented this code. In case you want to do it, use your folder location in chdir\n",
    "import os\n",
    "#os.chdir('G:\\\\My Drive\\\\TCNJ Courses\\\\IST350Spring2018\\\\IST350Spring2020\\\\Week5-6')\n",
    "os.getcwd()"
   ]
  },
  {
   "cell_type": "markdown",
   "metadata": {
    "id": "6EAxLAuDA_e9"
   },
   "source": [
    "## to install the python package on your system\n",
    "1. ! pip install seaborn\n",
    "2. ! pip install plotly\n",
    "3. ! pip insall cufflink"
   ]
  },
  {
   "cell_type": "markdown",
   "metadata": {
    "id": "BIKI8zSCA_e-"
   },
   "source": [
    "1. Matplotlib is one of the most popular library for plotting\n",
    "2. Another library seaborn is built upon the matplotlib\n"
   ]
  },
  {
   "cell_type": "code",
   "execution_count": null,
   "metadata": {
    "id": "iXq-eeT5A_e-"
   },
   "outputs": [],
   "source": [
    "# to check the installed packages, this may take some time (couple of seconds) to execute\n",
    "#help('modules')"
   ]
  },
  {
   "cell_type": "code",
   "execution_count": null,
   "metadata": {
    "id": "q6zZbKnTA_e_"
   },
   "outputs": [],
   "source": [
    "import numpy as np\n",
    "import pandas as pd\n",
    "import matplotlib.pyplot as plt\n",
    "# allow you to see the plot inside the jupyter notebook\n",
    "%matplotlib inline\n",
    "import seaborn as sns"
   ]
  },
  {
   "cell_type": "code",
   "execution_count": null,
   "metadata": {
    "id": "W0PMvsDnA_fA"
   },
   "outputs": [],
   "source": [
    "# Visit this site to know more about the seaborn\n",
    "import webbrowser\n",
    "webbrowser.open('https://seaborn.pydata.org/index.html')"
   ]
  },
  {
   "cell_type": "markdown",
   "metadata": {
    "id": "SvtmMOtLA_fA"
   },
   "source": [
    "# Categorical Data Plots from the perspective of the seaborn library\n",
    "\n",
    "Here we will discuss using seaborn to plot categorical data! There are a few main plot types for this:\n",
    "\n",
    "* barplot (it is essentially based on the count but seaborn provides a functionality to visualize this graph based on the quantitative data perspective)\n",
    "* countplot\n",
    "* boxplot (it is essentially a graph based on the quantitative variable, but seaborn provides a functionality to look this graph from the qualitative data perspective)\n",
    "* violinplot(it is essentially a graph based on the quantitative variable, but seaborn provides a functionality to look this graph from the qualitative data perspective)\n",
    "* stripplot\n",
    "* swarmplot\n"
   ]
  },
  {
   "cell_type": "markdown",
   "metadata": {
    "id": "Uyxib4jsA_fA"
   },
   "source": [
    "## barplot and countplot\n",
    "\n",
    "These very similar plots allow you to get aggregate data off a categorical feature in your data. **barplot** is a general plot that allows you to aggregate the categorical data based off some function, by default the mean\n",
    "\n",
    "countplot is essentially the same as barplot except we count the number of occurrences. Which is why we only pass the x value:"
   ]
  },
  {
   "cell_type": "markdown",
   "metadata": {
    "id": "BY2myNjOA_fB"
   },
   "source": [
    "**We will work using the pokemon data to understand the capabilities of the seaborn to perform the data visualisation**\n",
    "### Pokemon is a TV series that has expanded into video games, card games, movies, merchandise and everything inbetween. The motivation behind this analysis is to understand the dynamics of the pokemon universe through data visualisation.\n",
    "**Source of the data**\n",
    "https://www.kaggle.com/code/mmetter/pokemon-data-analysis-tutorial/data\n",
    "**Variables**\n",
    "* Name: The English name of the Pokemon\n",
    "* Type1: The Primary Type of the Pokemon\n",
    "* Type2: The Secondary Type of the Pokemon\n",
    "* Total:\n",
    "* HitPoints: The Base HP of the Pokemon\n",
    "* Attack: The Base Attack of the Pokemon\n",
    "* Defense: The Base Defense of the Pokemon\n",
    "* SpecialAttack: The Base Special Attack of the Pokemon\n",
    "* SpecialDefense: The Base Special Defense of the Pokemon\n",
    "* Speed: The Base Speed of the Pokemon\n",
    "* Generation: The numbered generation which the Pokemon was first introduced\n",
    "* Legendary: Denotes if the Pokemon is legendary.\n",
    "\n"
   ]
  },
  {
   "cell_type": "code",
   "execution_count": null,
   "metadata": {
    "id": "aVdI6IcwA_fB"
   },
   "outputs": [],
   "source": [
    "# Read the data\n",
    "pokemon = pd.read_csv('Pokemonstudent.csv',index_col = 0)"
   ]
  },
  {
   "cell_type": "code",
   "execution_count": null,
   "metadata": {
    "colab": {
     "base_uri": "https://localhost:8080/"
    },
    "id": "xK6n4mWkA_fC",
    "outputId": "61e3c72a-83f4-4252-da62-f391d5029b20"
   },
   "outputs": [],
   "source": [
    "# Basic information about the variables\n",
    "pokemon.info()"
   ]
  },
  {
   "cell_type": "code",
   "execution_count": null,
   "metadata": {
    "id": "wg9mXCuGA_fC"
   },
   "outputs": [],
   "source": [
    "pokemon.head()"
   ]
  },
  {
   "cell_type": "markdown",
   "metadata": {
    "id": "6cgVibpkA_fC"
   },
   "source": [
    "## barplot and countplot\n",
    "\n",
    "These very similar plots allow you to get aggregate data off a categorical feature in your data. **barplot** is a general plot that allows you to aggregate the categorical data based off some function, by default the mean\n",
    "\n",
    "countplot is essentially the same as barplot except we count the number of occurrences. Which is why we only pass the x value:"
   ]
  },
  {
   "cell_type": "code",
   "execution_count": null,
   "metadata": {
    "colab": {
     "base_uri": "https://localhost:8080/"
    },
    "id": "RxXqleQ_A_fC",
    "outputId": "06261ada-c910-4731-b195-b7bcb1f0a775"
   },
   "outputs": [],
   "source": [
    "pokemon['Type 1'].unique()"
   ]
  },
  {
   "cell_type": "code",
   "execution_count": null,
   "metadata": {
    "colab": {
     "base_uri": "https://localhost:8080/"
    },
    "id": "_ygK4xzRA_fD",
    "outputId": "fd4a0b47-e69b-45e7-c972-f878e9b517b4"
   },
   "outputs": [],
   "source": [
    "pokemon['Type 2'].unique()"
   ]
  },
  {
   "cell_type": "code",
   "execution_count": null,
   "metadata": {
    "colab": {
     "base_uri": "https://localhost:8080/",
     "height": 645
    },
    "id": "2HWZ49f7A_fD",
    "outputId": "be8b6230-7a92-4394-f92a-efbc6aa49a44"
   },
   "outputs": [],
   "source": [
    "pokemon.groupby('Type 1')[['Attack']].mean()\n"
   ]
  },
  {
   "cell_type": "code",
   "execution_count": null,
   "metadata": {
    "colab": {
     "base_uri": "https://localhost:8080/",
     "height": 514
    },
    "id": "b3LvNvOHA_fD",
    "outputId": "e1e1052b-c1c1-4131-adc5-fe3488142a85"
   },
   "outputs": [],
   "source": [
    "plt.figure(figsize=(10,8))\n",
    "sns.barplot(x='Type 1',y='Attack',data=pokemon)\n",
    "#A bar plot represents an estimate of central tendency for a numeric variable with the height of each rectangle \n",
    "#and provides some indication of the uncertainty around that estimate using error bars."
   ]
  },
  {
   "cell_type": "code",
   "execution_count": null,
   "metadata": {
    "id": "dC_STUq8A_fE"
   },
   "outputs": [],
   "source": [
    "# Create a Bar Plot between Type 1 and Defense"
   ]
  },
  {
   "cell_type": "code",
   "execution_count": null,
   "metadata": {
    "colab": {
     "base_uri": "https://localhost:8080/"
    },
    "id": "8N2dp8edA_fE",
    "outputId": "3c65587d-497d-4067-a325-6ffbea955ed6"
   },
   "outputs": [],
   "source": [
    "pokemon['Type 1'].value_counts().sort_index()"
   ]
  },
  {
   "cell_type": "code",
   "execution_count": null,
   "metadata": {
    "colab": {
     "base_uri": "https://localhost:8080/",
     "height": 296
    },
    "id": "nwIbTSGNA_fE",
    "outputId": "0db6a4ff-43b1-4303-c16d-4b81242b086a"
   },
   "outputs": [],
   "source": [
    "sns.countplot(x='Type 1',data=pokemon)"
   ]
  },
  {
   "cell_type": "code",
   "execution_count": null,
   "metadata": {
    "id": "tPEcVKHAA_fE"
   },
   "outputs": [],
   "source": [
    "# Create a count plot for Type 2"
   ]
  },
  {
   "cell_type": "markdown",
   "metadata": {
    "id": "GgfxcFWUA_fF"
   },
   "source": [
    "## boxplot and violinplot\n",
    "\n",
    "boxplots and violinplots are used to shown the distribution of categorical data. A box plot (or box-and-whisker plot) shows the distribution of quantitative data in a way that facilitates comparisons between variables or across levels of a categorical variable. The box shows the quartiles of the dataset while the whiskers extend to show the rest of the distribution, except for points that are determined to be “outliers” using a method that is a function of the inter-quartile range."
   ]
  },
  {
   "cell_type": "code",
   "execution_count": null,
   "metadata": {
    "colab": {
     "base_uri": "https://localhost:8080/",
     "height": 339
    },
    "id": "MLhhj7rzA_fF",
    "outputId": "e7bca3fd-6dbe-4ca3-f281-ce88e5c96139"
   },
   "outputs": [],
   "source": [
    "#plt.figure(figsize=(12,8))\n",
    "sns.boxplot(x='Type 1', y='Attack', data=pokemon)\n",
    "# Rotate x-labels\n",
    "plt.xticks(rotation=45)\n",
    "\n",
    "#Add the Palette\n",
    "#palette = 'Set3'\n",
    "#palette=\"coolwarm\"\n",
    "#sns.boxplot(x='Type 1', y='Attack', data=pokemon, palette='rainbow')\n"
   ]
  },
  {
   "cell_type": "code",
   "execution_count": null,
   "metadata": {
    "colab": {
     "base_uri": "https://localhost:8080/",
     "height": 514
    },
    "id": "qdDYwUbeA_fF",
    "outputId": "482c2f10-8f31-40b1-a043-2b6ed04ff8a8"
   },
   "outputs": [],
   "source": [
    "# Violin Plots are a combination of the box plot with the kernel density estimates.\n",
    "#Kernel Density Estimation (KDE) is a way to estimate the probability density function of\n",
    "#a continuous random variable. It is used for non-parametric analysis.\n",
    "'''\n",
    "The quartile and whisker values from the boxplot are shown inside the violin. As the\n",
    "violin plot uses KDE, the wider portion of violin indicates the higher density and narrow\n",
    "region represents relatively lower density. The Inter-Quartile range in boxplot and higher\n",
    "density portion in kde fall in the same region of each category of violin plot.\n",
    "\n",
    "'''\n",
    "# Set theme\n",
    "plt.figure(figsize=(12,8))\n",
    "sns.set_style('whitegrid')\n",
    " \n",
    "# Violin plot is alternative to box plot\n",
    "sns.violinplot(x='Type 1', y='Attack', data=pokemon)\n",
    "#  Dragon types tend to have higher Attack stats than Ghost types, but they also have greater variance"
   ]
  },
  {
   "cell_type": "code",
   "execution_count": null,
   "metadata": {
    "id": "8obgaghXA_fF"
   },
   "outputs": [],
   "source": [
    "# Box plot and violin plot using the Type 2 and Attack"
   ]
  },
  {
   "cell_type": "code",
   "execution_count": null,
   "metadata": {
    "id": "5oSUR-99A_fG"
   },
   "outputs": [],
   "source": [
    "# you can use the color palette\n",
    "# For a corresponding hexadecimal values for color code can use this site \n",
    "#https://bulbapedia.bulbagarden.net/wiki/Category:Type_color_templates\n",
    "import webbrowser\n",
    "webbrowser.open('https://bulbapedia.bulbagarden.net/wiki/Category:Type_color_templates')"
   ]
  },
  {
   "cell_type": "code",
   "execution_count": null,
   "metadata": {
    "id": "jzTGXI-XA_fG"
   },
   "outputs": [],
   "source": [
    "pkmntypecolors = ['#78C850',  # Grass\n",
    "                    '#F08030',  # Fire\n",
    "                    '#6890F0',  # Water\n",
    "                    '#A8B820',  # Bug\n",
    "                    '#A8A878',  # Normal\n",
    "                    '#A040A0',  # Poison\n",
    "                    '#F8D030',  # Electric\n",
    "                    '#E0C068',  # Ground\n",
    "                    '#EE99AC',  # Fairy\n",
    "                    '#C03028',  # Fighting\n",
    "                    '#F85888',  # Psychic\n",
    "                    '#B8A038',  # Rock\n",
    "                    '#705898',  # Ghost\n",
    "                    '#98D8D8',  # Ice\n",
    "                    '#7038F8',  # Dragon\n",
    "                   ]\n",
    "# to use this in the pallette"
   ]
  },
  {
   "cell_type": "code",
   "execution_count": null,
   "metadata": {
    "colab": {
     "base_uri": "https://localhost:8080/",
     "height": 514
    },
    "id": "NvBDMZbTA_fG",
    "outputId": "6da56bd7-bbeb-496d-8fb2-61a05c7a9fbb"
   },
   "outputs": [],
   "source": [
    "# Box plot and violin plot using the Type 2 and Attack and use the above defined palette\n",
    "# Set theme\n",
    "plt.figure(figsize=(12,8))\n",
    "sns.set_style('whitegrid')\n",
    "sns.violinplot(x='Type 2', y='Attack', data=pokemon, palette=pkmntypecolors)"
   ]
  },
  {
   "cell_type": "markdown",
   "metadata": {
    "id": "IkA5C7Y2A_fG"
   },
   "source": [
    "# factorplot/catplot\n",
    "catplot is the most general form of a categorical plot. It can take in a kind parameter to adjust the plot type"
   ]
  },
  {
   "cell_type": "code",
   "execution_count": null,
   "metadata": {
    "colab": {
     "base_uri": "https://localhost:8080/",
     "height": 386
    },
    "id": "rxxi2uukA_fG",
    "outputId": "3804fb7a-ade7-4cbf-bc7b-dff4acc2d0e6"
   },
   "outputs": [],
   "source": [
    "sns.catplot(x = 'Generation', y = 'SpecialDefense', data=pokemon,kind='bar')"
   ]
  },
  {
   "cell_type": "code",
   "execution_count": null,
   "metadata": {
    "colab": {
     "base_uri": "https://localhost:8080/",
     "height": 386
    },
    "id": "Vk39BqPAA_fG",
    "outputId": "71cafde8-eb59-4d5c-9677-7861bb7ba0c9"
   },
   "outputs": [],
   "source": [
    "sns.catplot(x='Generation', data = pokemon, kind = 'count', palette = 'rainbow')"
   ]
  },
  {
   "cell_type": "code",
   "execution_count": null,
   "metadata": {
    "colab": {
     "base_uri": "https://localhost:8080/",
     "height": 386
    },
    "id": "wj9XiVzYA_fH",
    "outputId": "0ff967b4-edba-4b67-c6ff-b34e8df22024"
   },
   "outputs": [],
   "source": [
    "#sns.catplot(x='SpecialDefense', data = pokemon, kind = 'box', palette = 'rainbow')\n",
    "sns.catplot(x='Generation',y='SpecialDefense', data = pokemon, kind = 'box', palette = 'rainbow')"
   ]
  },
  {
   "cell_type": "code",
   "execution_count": null,
   "metadata": {
    "colab": {
     "base_uri": "https://localhost:8080/",
     "height": 605
    },
    "id": "1cWuQRUEA_fH",
    "outputId": "c14aa0e0-08f7-432a-d1bb-610f356f25ac"
   },
   "outputs": [],
   "source": [
    "# Factor Plot\n",
    "g = sns.catplot(x='Type 1', \n",
    "                   y='Attack', \n",
    "                   data=pokemon, \n",
    "                   hue='Generation',  # Color by Generation\n",
    "                   col='Generation',  # Separate by Generation\n",
    "                   kind='swarm') # Swarmplot\n",
    " \n",
    "# Rotate x-axis labels\n",
    "g.set_xticklabels(rotation=-45)"
   ]
  },
  {
   "cell_type": "code",
   "execution_count": null,
   "metadata": {
    "colab": {
     "base_uri": "https://localhost:8080/",
     "height": 385
    },
    "id": "niEM4hLQA_fH",
    "outputId": "5d8e3bf6-7fb5-45d4-e47b-8052ae62dbc4"
   },
   "outputs": [],
   "source": [
    "#sns.distplot(pokemon['SpecialDefense'],kde=False,bins=30)\n",
    "sns.distplot(pokemon['SpecialDefense'],kde_kws={\"color\": \"red\", \"lw\": 3, \"label\": \"KDE\"})"
   ]
  },
  {
   "cell_type": "code",
   "execution_count": null,
   "metadata": {
    "colab": {
     "base_uri": "https://localhost:8080/",
     "height": 735
    },
    "id": "OE7OSXolA_fH",
    "outputId": "6b43421c-9c9d-4ce4-9030-5cbb69596e2d"
   },
   "outputs": [],
   "source": [
    "sns.jointplot(x='SpecialDefense',y='Defense',data=pokemon,kind='scatter')"
   ]
  },
  {
   "cell_type": "markdown",
   "metadata": {
    "id": "oCxdD6cAA_fI"
   },
   "source": [
    "## pairplot\n",
    "\n",
    "pairplot will plot pairwise relationships across an entire dataframe (for the numerical columns) and supports a color hue argument (for categorical columns). "
   ]
  },
  {
   "cell_type": "code",
   "execution_count": null,
   "metadata": {
    "colab": {
     "base_uri": "https://localhost:8080/",
     "height": 668
    },
    "id": "AnWPYmdlA_fI",
    "outputId": "53fe6492-dcd4-4e67-8993-5cfd7a7fb75c"
   },
   "outputs": [],
   "source": [
    "sns.pairplot(pokemon[['Attack','Defense']])"
   ]
  },
  {
   "cell_type": "markdown",
   "metadata": {
    "id": "kVJ63fNnA_fI"
   },
   "source": [
    "## Scatterplot"
   ]
  },
  {
   "cell_type": "code",
   "execution_count": null,
   "metadata": {
    "colab": {
     "base_uri": "https://localhost:8080/",
     "height": 475
    },
    "id": "VbixshmfA_fI",
    "outputId": "7205109f-47c4-47f7-f303-01f73a4fa2e7"
   },
   "outputs": [],
   "source": [
    "# lmplot for scatter plot\n",
    "# two ways\n",
    "sns.lmplot('Attack', 'Defense', data = pokemon)"
   ]
  },
  {
   "cell_type": "code",
   "execution_count": null,
   "metadata": {
    "colab": {
     "base_uri": "https://localhost:8080/",
     "height": 475
    },
    "id": "-3FIXWu4A_fI",
    "outputId": "ca63d97f-c863-4802-bc09-900ce7f5c0b9"
   },
   "outputs": [],
   "source": [
    "# Regression line is in place and we need to remove it\n",
    "sns.lmplot('Attack', 'Defense', data = pokemon,\n",
    "          fit_reg = False, # Regression line\n",
    "          hue = 'Generation') # colour based on the genration"
   ]
  },
  {
   "cell_type": "code",
   "execution_count": null,
   "metadata": {
    "colab": {
     "base_uri": "https://localhost:8080/",
     "height": 475
    },
    "id": "xWzveAB5A_fI",
    "outputId": "4034c5a6-bf56-4def-fe3f-548a75585bd1"
   },
   "outputs": [],
   "source": [
    "# Integration with matplotlib \n",
    "# Regression line is in place and we need to remove it\n",
    "sns.lmplot('Attack', 'Defense', data = pokemon,\n",
    "          fit_reg = False, # Regression line\n",
    "          hue = 'Generation') # colour based on the genration\n",
    "# Tweak using Matplotlib\n",
    "plt.ylim(0, None)\n",
    "plt.xlim(0, None)"
   ]
  },
  {
   "cell_type": "code",
   "execution_count": null,
   "metadata": {
    "colab": {
     "base_uri": "https://localhost:8080/",
     "height": 500
    },
    "id": "LptIzqmTA_fI",
    "outputId": "6274bdf9-2d10-4c72-98cb-8f7883a5dea5"
   },
   "outputs": [],
   "source": [
    "# Pre-format DataFrame\n",
    "plt.figure(figsize=(12,8))\n",
    "pm_df = pokemon.drop(['Year', 'Generation', 'Legendary'], axis=1)\n",
    " \n",
    "# New boxplot using stats_df\n",
    "sns.boxplot(data=pm_df)"
   ]
  },
  {
   "cell_type": "code",
   "execution_count": null,
   "metadata": {
    "colab": {
     "base_uri": "https://localhost:8080/",
     "height": 1000
    },
    "id": "Ky14V8MNA_fJ",
    "outputId": "6b39050f-0d30-484e-e3cf-83125da74174"
   },
   "outputs": [],
   "source": [
    "# Swarm plot with Pokemon color palette\n",
    "sns.swarmplot(x='Type 1', y='Attack', data=pokemon, \n",
    "              palette=pkmntypecolors)\n"
   ]
  },
  {
   "cell_type": "code",
   "execution_count": null,
   "metadata": {
    "colab": {
     "base_uri": "https://localhost:8080/",
     "height": 669
    },
    "id": "f0fZtQfUA_fJ",
    "outputId": "3a12a311-794f-483f-fa3f-382d254b8edc"
   },
   "outputs": [],
   "source": [
    "# overlaying\n",
    "# Set figure size with matplotlib\n",
    "plt.figure(figsize=(12,8))\n",
    " \n",
    "# Create plot\n",
    "sns.violinplot(x='Type 1',\n",
    "               y='Attack', \n",
    "               data=pokemon, \n",
    "               inner=None, # Remove the bars inside the violins\n",
    "               palette=pkmntypecolors)\n",
    " \n",
    "sns.swarmplot(x='Type 1', \n",
    "              y='Attack', \n",
    "              data=pokemon, \n",
    "              color='k', # Make points black\n",
    "              alpha=0.7) # and slightly transparent\n",
    " \n",
    "# Set title with matplotlib\n",
    "plt.title('Attack by Type')\n"
   ]
  },
  {
   "cell_type": "code",
   "execution_count": null,
   "metadata": {
    "colab": {
     "base_uri": "https://localhost:8080/",
     "height": 237
    },
    "id": "x34AKqL6A_fJ",
    "outputId": "8acf1a3d-5405-4e10-ab92-4268b3ea665c"
   },
   "outputs": [],
   "source": [
    "pm_df.head()"
   ]
  },
  {
   "cell_type": "code",
   "execution_count": null,
   "metadata": {
    "colab": {
     "base_uri": "https://localhost:8080/"
    },
    "id": "8oV8QWzaA_fJ",
    "outputId": "c4097455-a4d5-47e2-df57-ae647d9aed02"
   },
   "outputs": [],
   "source": [
    "# HeatMap\n",
    "corr = pm_df.corr()\n",
    "print(corr)"
   ]
  },
  {
   "cell_type": "code",
   "execution_count": null,
   "metadata": {
    "colab": {
     "base_uri": "https://localhost:8080/",
     "height": 504
    },
    "id": "R__J5q8CA_fJ",
    "outputId": "a66a6b8d-bc8d-4b47-d05f-8acdec5a7059"
   },
   "outputs": [],
   "source": [
    "plt.figure(figsize=(12,8))\n",
    "sns.heatmap(corr)"
   ]
  },
  {
   "cell_type": "markdown",
   "metadata": {
    "id": "H37-DwONA_fK"
   },
   "source": [
    "**Plotly's Python graphing library makes interactive graphs**\n",
    "**cufflink connects plotly with pandas to create graphs and charts of dataframes directly.**"
   ]
  },
  {
   "cell_type": "code",
   "execution_count": null,
   "metadata": {
    "id": "MCyJLfbhA_fK"
   },
   "outputs": [],
   "source": [
    "# to install the package\n",
    "#! pip install plotly\n",
    "#! pip install cufflinks"
   ]
  },
  {
   "cell_type": "code",
   "execution_count": null,
   "metadata": {
    "id": "1lSVYXxhA_fK"
   },
   "outputs": [],
   "source": [
    "from IPython.display import HTML\n",
    "from plotly.offline import download_plotlyjs, init_notebook_mode,plot, iplot"
   ]
  },
  {
   "cell_type": "code",
   "execution_count": null,
   "metadata": {
    "id": "pKKQsW6FA_fK"
   },
   "outputs": [],
   "source": [
    "import cufflinks as cf"
   ]
  },
  {
   "cell_type": "code",
   "execution_count": null,
   "metadata": {
    "colab": {
     "base_uri": "https://localhost:8080/",
     "height": 17
    },
    "id": "xzupXr0eA_fK",
    "outputId": "d04b2ba4-e618-407a-a1d8-e775be6e7f8a"
   },
   "outputs": [],
   "source": [
    "init_notebook_mode(connected=True)"
   ]
  },
  {
   "cell_type": "code",
   "execution_count": null,
   "metadata": {
    "colab": {
     "base_uri": "https://localhost:8080/",
     "height": 17
    },
    "id": "winjhWcQA_fK",
    "outputId": "38d8318f-3c88-4a12-c1c2-ab17fb8fa26a"
   },
   "outputs": [],
   "source": [
    "# offline\n",
    "cf.go_offline()"
   ]
  },
  {
   "cell_type": "code",
   "execution_count": null,
   "metadata": {
    "colab": {
     "base_uri": "https://localhost:8080/",
     "height": 708
    },
    "id": "RLLESBmxA_fL",
    "outputId": "996b64a1-0772-4567-fb4c-ca90617496e3"
   },
   "outputs": [],
   "source": [
    "fig1 = pokemon[['Attack','SpecialAttack']].iplot()\n",
    "#fig1.show()"
   ]
  },
  {
   "cell_type": "code",
   "execution_count": null,
   "metadata": {
    "id": "dniCIUAeA_fL"
   },
   "outputs": [],
   "source": [
    "pokemon.iplot(kind = 'scatter', x = 'Attack', y = 'SpecialAttack', mode = 'markers', size = 3)"
   ]
  },
  {
   "cell_type": "code",
   "execution_count": null,
   "metadata": {
    "id": "OOTJEOxKA_fL"
   },
   "outputs": [],
   "source": [
    "pokemon.iplot(kind = 'bar',x = 'Generation', y = 'SpecialAttack')"
   ]
  },
  {
   "cell_type": "code",
   "execution_count": null,
   "metadata": {
    "id": "x62jNqJ2A_fL"
   },
   "outputs": [],
   "source": [
    "pokemon[['Generation', 'SpecialAttack']].iplot(kind = 'box')"
   ]
  },
  {
   "cell_type": "code",
   "execution_count": null,
   "metadata": {
    "colab": {
     "base_uri": "https://localhost:8080/",
     "height": 17
    },
    "id": "4liZosriA_fL",
    "outputId": "4fdcda89-1ce7-4605-d9cb-c3353de0fba3"
   },
   "outputs": [],
   "source": [
    "#import all the necessary functions and classes\n",
    "import plotly.express as px\n",
    "import plotly.offline as py\n",
    "py.offline.init_notebook_mode(connected=True)\n",
    "import plotly.graph_objs as go\n",
    "from plotly.figure_factory import create_table"
   ]
  },
  {
   "cell_type": "code",
   "execution_count": null,
   "metadata": {
    "colab": {
     "base_uri": "https://localhost:8080/",
     "height": 417
    },
    "id": "MgOSTMewA_fL",
    "outputId": "bf84f546-c4d0-450f-aa65-dabea7cb61c7"
   },
   "outputs": [],
   "source": [
    "fig_2 = px.bar(pokemon,x='Generation',y='Attack',height=400) \n",
    "HTML(fig_2.to_html())"
   ]
  },
  {
   "cell_type": "code",
   "execution_count": null,
   "metadata": {
    "colab": {
     "base_uri": "https://localhost:8080/",
     "height": 417
    },
    "id": "agqInnbSA_fL",
    "outputId": "53bc1c47-b9a4-49dc-8e17-ac01fb4213f6"
   },
   "outputs": [],
   "source": [
    "fig3 = px.bar(pokemon,x='Generation',y='Attack',color='SpecialAttack',height=400,\n",
    "      labels={'Attack':'BaseAttack'})   # add color to the barchart to see SpecialAttack and on y axis plot BaseAttack\n",
    "HTML(fig3.to_html())      "
   ]
  },
  {
   "cell_type": "code",
   "execution_count": null,
   "metadata": {
    "colab": {
     "base_uri": "https://localhost:8080/",
     "height": 467
    },
    "id": "fBHdPZZLA_fM",
    "outputId": "413f1a72-0ba8-4810-e7fb-8eb4b43ed47c"
   },
   "outputs": [],
   "source": [
    "fig4 = px.scatter(pokemon,x='Attack',y='Defense')\n",
    "HTML(fig4.to_html())  "
   ]
  },
  {
   "cell_type": "code",
   "execution_count": null,
   "metadata": {
    "colab": {
     "base_uri": "https://localhost:8080/",
     "height": 467
    },
    "id": "W0asKCp9A_fM",
    "outputId": "88abdef9-9fc6-4609-ca02-0f16d177dcc2"
   },
   "outputs": [],
   "source": [
    "fig5 =px.scatter(pokemon,x='Attack',y='Defense', color = 'Generation')\n",
    "HTML(fig5.to_html())"
   ]
  },
  {
   "cell_type": "code",
   "execution_count": null,
   "metadata": {
    "colab": {
     "base_uri": "https://localhost:8080/",
     "height": 467
    },
    "id": "mrLlfwSsA_fM",
    "outputId": "5e70e25e-392b-418d-eda3-4e589d1f935f"
   },
   "outputs": [],
   "source": [
    "#draw a bubble plot\n",
    "fig6 =px.scatter(pokemon,x='Attack',y='Defense', color = 'Type 1', size = 'Generation', size_max = 30)\n",
    "HTML(fig6.to_html())"
   ]
  },
  {
   "cell_type": "code",
   "execution_count": null,
   "metadata": {
    "id": "xB734qChA_fM"
   },
   "outputs": [],
   "source": [
    "#add hover name - Type\n",
    "fig7=px.scatter(pokemon,x='Attack',y='Defense', color = 'Type 1', size = 'Generation', size_max = 30,\n",
    "          hover_name='Type 2')\n",
    "HTML(fig7.to_html())\n",
    "\n"
   ]
  },
  {
   "cell_type": "code",
   "execution_count": null,
   "metadata": {
    "id": "OIjbu7wrA_fM"
   },
   "outputs": [],
   "source": [
    "#facetplot\n",
    "fig8 =px.scatter(pokemon,x='Attack',y='Defense', color = 'Type 1', size = 'Generation', size_max = 30,\n",
    "          hover_name='Type 2', facet_col = 'Generation')\n",
    "HTML(fig8.to_html())\n"
   ]
  },
  {
   "cell_type": "code",
   "execution_count": null,
   "metadata": {
    "colab": {
     "base_uri": "https://localhost:8080/",
     "height": 467
    },
    "id": "bRNPRNZ5A_fM",
    "outputId": "b00e4fad-7f2f-4d02-8082-c1b21718e76e"
   },
   "outputs": [],
   "source": [
    "#adding animation to bubble plot\n",
    "#facetplot\n",
    "fig9 =px.scatter(pokemon,x='Attack',y='Defense', color = 'Type 1', size = 'Generation', size_max = 30,\n",
    "          hover_name='Type 2', log_x = True, animation_frame = 'Year', animation_group = 'Generation')\n",
    "HTML(fig9.to_html())\n"
   ]
  },
  {
   "cell_type": "code",
   "execution_count": null,
   "metadata": {
    "id": "APfz7MSJA_fN"
   },
   "outputs": [],
   "source": []
  }
 ],
 "metadata": {
  "colab": {
   "name": "Workshop_seaborndatavisualization.ipynb",
   "provenance": []
  },
  "kernelspec": {
   "display_name": "Python 3",
   "language": "python",
   "name": "python3"
  },
  "language_info": {
   "codemirror_mode": {
    "name": "ipython",
    "version": 3
   },
   "file_extension": ".py",
   "mimetype": "text/x-python",
   "name": "python",
   "nbconvert_exporter": "python",
   "pygments_lexer": "ipython3",
   "version": "3.7.4"
  }
 },
 "nbformat": 4,
 "nbformat_minor": 1
}
