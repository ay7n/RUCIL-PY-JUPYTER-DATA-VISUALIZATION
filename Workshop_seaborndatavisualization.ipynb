{
 "cells": [
  {
   "cell_type": "markdown",
   "metadata": {},
   "source": [
    "#                                       Data Visualization"
   ]
  },
  {
   "cell_type": "markdown",
   "metadata": {},
   "source": [
    "**The ability to produce meaningful and insightful data visualizations is an essential part of your skill set as a data analyst.Data visualization is a graphical representation of information and data. By using various visual techniques like graphs and maps, data visualization provides an easier way to see and understand trends, outliers, correlations and patterns in data that might go undetected in raw data. In the world of Big Data, data visualization tools and technologies are essential to analyze massive amounts of information and make data-driven decisions. \n",
    "Data visualization is a good technique to use before performing any formal analysis**\n"
   ]
  },
  {
   "cell_type": "markdown",
   "metadata": {},
   "source": [
    "\n",
    "\n",
    "\n",
    "# An introduction to seaborn"
   ]
  },
  {
   "cell_type": "markdown",
   "metadata": {},
   "source": [
    "**Seaborn is a library for making statistical graphics in Python. It builds on top of matplotlib and integrates closely with pandas data structures.**"
   ]
  },
  {
   "cell_type": "markdown",
   "metadata": {},
   "source": [
    "**I recommend to keep the data and jupyter notebook in the same folder**\n",
    "**If you have not done so, you have to either provide the path of the file or change the working directory as suggested below**"
   ]
  },
  {
   "cell_type": "code",
   "execution_count": null,
   "metadata": {},
   "outputs": [],
   "source": [
    "# to change the working directory\n",
    "# this is just an example, I have commented this code. In case you want to do it, use your folder location in chdir\n",
    "import os\n",
    "#os.chdir('G:\\\\My Drive\\\\TCNJ Courses\\\\IST350Spring2018\\\\IST350Spring2020\\\\Week5-6')\n",
    "os.getcwd()"
   ]
  },
  {
   "cell_type": "markdown",
   "metadata": {},
   "source": [
    "## to install the python package on your system\n",
    "1. ! pip install seaborn\n",
    "2. ! pip install plotly\n",
    "3. ! pip insall cufflink"
   ]
  },
  {
   "cell_type": "markdown",
   "metadata": {},
   "source": [
    "1. Matplotlib is one of the most popular library for plotting\n",
    "2. Another library seaborn is built upon the matplotlib\n"
   ]
  },
  {
   "cell_type": "code",
   "execution_count": null,
   "metadata": {},
   "outputs": [],
   "source": [
    "# to check the installed packages, this may take some time (couple of seconds) to execute\n",
    "#help('modules')"
   ]
  },
  {
   "cell_type": "code",
   "execution_count": null,
   "metadata": {},
   "outputs": [],
   "source": [
    "import numpy as np\n",
    "import pandas as pd\n",
    "import matplotlib.pyplot as plt\n",
    "# allow you to see the plot inside the jupyter notebook\n",
    "%matplotlib inline\n",
    "import seaborn as sns"
   ]
  },
  {
   "cell_type": "code",
   "execution_count": null,
   "metadata": {},
   "outputs": [],
   "source": [
    "# Visit this site to know more about the seaborn\n",
    "import webbrowser\n",
    "webbrowser.open('https://seaborn.pydata.org/index.html')"
   ]
  },
  {
   "cell_type": "markdown",
   "metadata": {},
   "source": [
    "# Categorical Data Plots from the perspective of the seaborn library\n",
    "\n",
    "Here we will discuss using seaborn to plot categorical data! There are a few main plot types for this:\n",
    "\n",
    "* barplot (it is essentially based on the count but seaborn provides a functionality to visualize this graph based on the quantitative data perspective)\n",
    "* countplot\n",
    "* boxplot (it is essentially a graph based on the quantitative variable, but seaborn provides a functionality to look this graph from the qualitative data perspective)\n",
    "* violinplot(it is essentially a graph based on the quantitative variable, but seaborn provides a functionality to look this graph from the qualitative data perspective)\n",
    "* stripplot\n",
    "* swarmplot\n"
   ]
  },
  {
   "cell_type": "markdown",
   "metadata": {},
   "source": [
    "## barplot and countplot\n",
    "\n",
    "These very similar plots allow you to get aggregate data off a categorical feature in your data. **barplot** is a general plot that allows you to aggregate the categorical data based off some function, by default the mean\n",
    "\n",
    "countplot is essentially the same as barplot except we count the number of occurrences. Which is why we only pass the x value:"
   ]
  },
  {
   "cell_type": "markdown",
   "metadata": {},
   "source": [
    "**We will work using the pokemon data to understand the capabilities of the seaborn to perform the data visualisation**\n",
    "### Pokemon is a TV series that has expanded into video games, card games, movies, merchandise and everything inbetween. The motivation behind this analysis is to understand the dynamics of the pokemon universe through data visualisation.\n",
    "**Source of the data**\n",
    "https://www.kaggle.com/code/mmetter/pokemon-data-analysis-tutorial/data\n",
    "**Variables**\n",
    "* Name: The English name of the Pokemon\n",
    "* Type1: The Primary Type of the Pokemon\n",
    "* Type2: The Secondary Type of the Pokemon\n",
    "* Total:\n",
    "* HitPoints: The Base HP of the Pokemon\n",
    "* Attack: The Base Attack of the Pokemon\n",
    "* Defense: The Base Defense of the Pokemon\n",
    "* SpecialAttack: The Base Special Attack of the Pokemon\n",
    "* SpecialDefense: The Base Special Defense of the Pokemon\n",
    "* Speed: The Base Speed of the Pokemon\n",
    "* Generation: The numbered generation which the Pokemon was first introduced\n",
    "* Legendary: Denotes if the Pokemon is legendary.\n",
    "\n"
   ]
  },
  {
   "cell_type": "code",
   "execution_count": null,
   "metadata": {},
   "outputs": [],
   "source": [
    "# Read the data\n",
    "pokemon = pd.read_csv('Pokemonstudent.csv',index_col = 0)"
   ]
  },
  {
   "cell_type": "code",
   "execution_count": null,
   "metadata": {},
   "outputs": [],
   "source": [
    "# Basic information about the variables\n",
    "pokemon.info()"
   ]
  },
  {
   "cell_type": "code",
   "execution_count": null,
   "metadata": {},
   "outputs": [],
   "source": [
    "pokemon.head()"
   ]
  },
  {
   "cell_type": "markdown",
   "metadata": {},
   "source": [
    "## barplot and countplot\n",
    "\n",
    "These very similar plots allow you to get aggregate data off a categorical feature in your data. **barplot** is a general plot that allows you to aggregate the categorical data based off some function, by default the mean\n",
    "\n",
    "countplot is essentially the same as barplot except we count the number of occurrences. Which is why we only pass the x value:"
   ]
  },
  {
   "cell_type": "code",
   "execution_count": null,
   "metadata": {},
   "outputs": [],
   "source": [
    "pokemon['Type 1'].unique()"
   ]
  },
  {
   "cell_type": "code",
   "execution_count": null,
   "metadata": {},
   "outputs": [],
   "source": [
    "pokemon['Type 2'].unique()"
   ]
  },
  {
   "cell_type": "code",
   "execution_count": null,
   "metadata": {},
   "outputs": [],
   "source": [
    "pokemon.groupby('Type 1')[['Attack']].mean()\n"
   ]
  },
  {
   "cell_type": "code",
   "execution_count": null,
   "metadata": {},
   "outputs": [],
   "source": [
    "plt.figure(figsize=(10,8))\n",
    "sns.barplot(x='Type 1',y='Attack',data=pokemon)\n",
    "#A bar plot represents an estimate of central tendency for a numeric variable with the height of each rectangle \n",
    "#and provides some indication of the uncertainty around that estimate using error bars."
   ]
  },
  {
   "cell_type": "code",
   "execution_count": null,
   "metadata": {},
   "outputs": [],
   "source": [
    "# Create a Bar Plot between Type 1 and Defense"
   ]
  },
  {
   "cell_type": "code",
   "execution_count": null,
   "metadata": {},
   "outputs": [],
   "source": [
    "pokemon['Type 1'].value_counts().sort_index()"
   ]
  },
  {
   "cell_type": "code",
   "execution_count": null,
   "metadata": {},
   "outputs": [],
   "source": [
    "sns.countplot(x='Type 1',data=pokemon)"
   ]
  },
  {
   "cell_type": "code",
   "execution_count": null,
   "metadata": {},
   "outputs": [],
   "source": [
    "# Create a count plot for Type 2"
   ]
  },
  {
   "cell_type": "markdown",
   "metadata": {},
   "source": [
    "## boxplot and violinplot\n",
    "\n",
    "boxplots and violinplots are used to shown the distribution of categorical data. A box plot (or box-and-whisker plot) shows the distribution of quantitative data in a way that facilitates comparisons between variables or across levels of a categorical variable. The box shows the quartiles of the dataset while the whiskers extend to show the rest of the distribution, except for points that are determined to be “outliers” using a method that is a function of the inter-quartile range."
   ]
  },
  {
   "cell_type": "code",
   "execution_count": null,
   "metadata": {},
   "outputs": [],
   "source": [
    "#plt.figure(figsize=(12,8))\n",
    "sns.boxplot(x='Type 1', y='Attack', data=pokemon)\n",
    "# Rotate x-labels\n",
    "plt.xticks(rotation=45)\n",
    "\n",
    "#Add the Palette\n",
    "#palette = 'Set3'\n",
    "#palette=\"coolwarm\"\n",
    "#sns.boxplot(x='Type 1', y='Attack', data=pokemon, palette='rainbow')\n"
   ]
  },
  {
   "cell_type": "code",
   "execution_count": null,
   "metadata": {},
   "outputs": [],
   "source": [
    "# Violin Plots are a combination of the box plot with the kernel density estimates.\n",
    "#Kernel Density Estimation (KDE) is a way to estimate the probability density function of\n",
    "#a continuous random variable. It is used for non-parametric analysis.\n",
    "'''\n",
    "The quartile and whisker values from the boxplot are shown inside the violin. As the\n",
    "violin plot uses KDE, the wider portion of violin indicates the higher density and narrow\n",
    "region represents relatively lower density. The Inter-Quartile range in boxplot and higher\n",
    "density portion in kde fall in the same region of each category of violin plot.\n",
    "\n",
    "'''\n",
    "# Set theme\n",
    "plt.figure(figsize=(12,8))\n",
    "sns.set_style('whitegrid')\n",
    " \n",
    "# Violin plot is alternative to box plot\n",
    "sns.violinplot(x='Type 1', y='Attack', data=pokemon)\n",
    "#  Dragon types tend to have higher Attack stats than Ghost types, but they also have greater variance"
   ]
  },
  {
   "cell_type": "code",
   "execution_count": null,
   "metadata": {},
   "outputs": [],
   "source": [
    "# Box plot and violin plot using the Type 2 and Attack"
   ]
  },
  {
   "cell_type": "code",
   "execution_count": null,
   "metadata": {},
   "outputs": [],
   "source": [
    "# you can use the color palette\n",
    "# For a corresponding hexadecimal values for color code can use this site \n",
    "#https://bulbapedia.bulbagarden.net/wiki/Category:Type_color_templates\n",
    "import webbrowser\n",
    "webbrowser.open('https://bulbapedia.bulbagarden.net/wiki/Category:Type_color_templates')"
   ]
  },
  {
   "cell_type": "code",
   "execution_count": null,
   "metadata": {},
   "outputs": [],
   "source": [
    "pkmntypecolors = ['#78C850',  # Grass\n",
    "                    '#F08030',  # Fire\n",
    "                    '#6890F0',  # Water\n",
    "                    '#A8B820',  # Bug\n",
    "                    '#A8A878',  # Normal\n",
    "                    '#A040A0',  # Poison\n",
    "                    '#F8D030',  # Electric\n",
    "                    '#E0C068',  # Ground\n",
    "                    '#EE99AC',  # Fairy\n",
    "                    '#C03028',  # Fighting\n",
    "                    '#F85888',  # Psychic\n",
    "                    '#B8A038',  # Rock\n",
    "                    '#705898',  # Ghost\n",
    "                    '#98D8D8',  # Ice\n",
    "                    '#7038F8',  # Dragon\n",
    "                   ]\n",
    "# to use this in the pallette"
   ]
  },
  {
   "cell_type": "code",
   "execution_count": null,
   "metadata": {},
   "outputs": [],
   "source": [
    "# Box plot and violin plot using the Type 2 and Attack and use the above defined palette\n",
    "# Set theme\n",
    "plt.figure(figsize=(12,8))\n",
    "sns.set_style('whitegrid')\n",
    "sns.violinplot(x='Type 2', y='Attack', data=pokemon, palette=pkmntypecolors)"
   ]
  },
  {
   "cell_type": "markdown",
   "metadata": {},
   "source": [
    "# factorplot/catplot\n",
    "catplot is the most general form of a categorical plot. It can take in a kind parameter to adjust the plot type"
   ]
  },
  {
   "cell_type": "code",
   "execution_count": null,
   "metadata": {},
   "outputs": [],
   "source": [
    "sns.catplot(x = 'Generation', y = 'SpecialDefense', data=pokemon,kind='bar')"
   ]
  },
  {
   "cell_type": "code",
   "execution_count": null,
   "metadata": {},
   "outputs": [],
   "source": [
    "sns.catplot(x='Generation', data = pokemon, kind = 'count', palette = 'rainbow')"
   ]
  },
  {
   "cell_type": "code",
   "execution_count": null,
   "metadata": {},
   "outputs": [],
   "source": [
    "#sns.catplot(x='SpecialDefense', data = pokemon, kind = 'box', palette = 'rainbow')\n",
    "sns.catplot(x='Generation',y='SpecialDefense', data = pokemon, kind = 'box', palette = 'rainbow')"
   ]
  },
  {
   "cell_type": "code",
   "execution_count": null,
   "metadata": {},
   "outputs": [],
   "source": [
    "# Factor Plot\n",
    "g = sns.catplot(x='Type 1', \n",
    "                   y='Attack', \n",
    "                   data=pokemon, \n",
    "                   hue='Generation',  # Color by Generation\n",
    "                   col='Generation',  # Separate by Generation\n",
    "                   kind='swarm') # Swarmplot\n",
    " \n",
    "# Rotate x-axis labels\n",
    "g.set_xticklabels(rotation=-45)"
   ]
  },
  {
   "cell_type": "code",
   "execution_count": null,
   "metadata": {},
   "outputs": [],
   "source": [
    "#sns.distplot(pokemon['SpecialDefense'],kde=False,bins=30)\n",
    "sns.distplot(pokemon['SpecialDefense'],kde_kws={\"color\": \"red\", \"lw\": 3, \"label\": \"KDE\"})"
   ]
  },
  {
   "cell_type": "code",
   "execution_count": null,
   "metadata": {},
   "outputs": [],
   "source": [
    "sns.jointplot(x='SpecialDefense',y='Defense',data=pokemon,kind='scatter')"
   ]
  },
  {
   "cell_type": "markdown",
   "metadata": {},
   "source": [
    "## pairplot\n",
    "\n",
    "pairplot will plot pairwise relationships across an entire dataframe (for the numerical columns) and supports a color hue argument (for categorical columns). "
   ]
  },
  {
   "cell_type": "code",
   "execution_count": null,
   "metadata": {},
   "outputs": [],
   "source": [
    "sns.pairplot(pokemon[['Attack','Defense']])"
   ]
  },
  {
   "cell_type": "markdown",
   "metadata": {},
   "source": [
    "## Scatterplot"
   ]
  },
  {
   "cell_type": "code",
   "execution_count": null,
   "metadata": {},
   "outputs": [],
   "source": [
    "# lmplot for scatter plot\n",
    "# two ways\n",
    "sns.lmplot('Attack', 'Defense', data = pokemon)"
   ]
  },
  {
   "cell_type": "code",
   "execution_count": null,
   "metadata": {},
   "outputs": [],
   "source": [
    "# Regression line is in place and we need to remove it\n",
    "sns.lmplot('Attack', 'Defense', data = pokemon,\n",
    "          fit_reg = False, # Regression line\n",
    "          hue = 'Generation') # colour based on the genration"
   ]
  },
  {
   "cell_type": "code",
   "execution_count": null,
   "metadata": {},
   "outputs": [],
   "source": [
    "# Integration with matplotlib \n",
    "# Regression line is in place and we need to remove it\n",
    "sns.lmplot('Attack', 'Defense', data = pokemon,\n",
    "          fit_reg = False, # Regression line\n",
    "          hue = 'Generation') # colour based on the genration\n",
    "# Tweak using Matplotlib\n",
    "plt.ylim(0, None)\n",
    "plt.xlim(0, None)"
   ]
  },
  {
   "cell_type": "code",
   "execution_count": null,
   "metadata": {},
   "outputs": [],
   "source": [
    "# Pre-format DataFrame\n",
    "plt.figure(figsize=(12,8))\n",
    "pm_df = pokemon.drop(['Year', 'Generation', 'Legendary'], axis=1)\n",
    " \n",
    "# New boxplot using stats_df\n",
    "sns.boxplot(data=pm_df)"
   ]
  },
  {
   "cell_type": "code",
   "execution_count": null,
   "metadata": {},
   "outputs": [],
   "source": [
    "# Swarm plot with Pokemon color palette\n",
    "sns.swarmplot(x='Type 1', y='Attack', data=pokemon, \n",
    "              palette=pkmntypecolors)\n"
   ]
  },
  {
   "cell_type": "code",
   "execution_count": null,
   "metadata": {},
   "outputs": [],
   "source": [
    "# overlaying\n",
    "# Set figure size with matplotlib\n",
    "plt.figure(figsize=(12,8))\n",
    " \n",
    "# Create plot\n",
    "sns.violinplot(x='Type 1',\n",
    "               y='Attack', \n",
    "               data=pokemon, \n",
    "               inner=None, # Remove the bars inside the violins\n",
    "               palette=pkmntypecolors)\n",
    " \n",
    "sns.swarmplot(x='Type 1', \n",
    "              y='Attack', \n",
    "              data=pokemon, \n",
    "              color='k', # Make points black\n",
    "              alpha=0.7) # and slightly transparent\n",
    " \n",
    "# Set title with matplotlib\n",
    "plt.title('Attack by Type')\n"
   ]
  },
  {
   "cell_type": "code",
   "execution_count": null,
   "metadata": {},
   "outputs": [],
   "source": [
    "pm_df.head()"
   ]
  },
  {
   "cell_type": "code",
   "execution_count": null,
   "metadata": {},
   "outputs": [],
   "source": [
    "# HeatMap\n",
    "corr = pm_df.corr()\n",
    "print(corr)"
   ]
  },
  {
   "cell_type": "code",
   "execution_count": null,
   "metadata": {},
   "outputs": [],
   "source": [
    "plt.figure(figsize=(12,8))\n",
    "sns.heatmap(corr)"
   ]
  },
  {
   "cell_type": "markdown",
   "metadata": {},
   "source": [
    "**Plotly's Python graphing library makes interactive graphs**\n",
    "**cufflink connects plotly with pandas to create graphs and charts of dataframes directly.**"
   ]
  },
  {
   "cell_type": "code",
   "execution_count": null,
   "metadata": {},
   "outputs": [],
   "source": [
    "# to install the package\n",
    "#! pip install plotly\n",
    "#! pip install cufflinks"
   ]
  },
  {
   "cell_type": "code",
   "execution_count": null,
   "metadata": {},
   "outputs": [],
   "source": [
    "from plotly.offline import download_plotlyjs, init_notebook_mode,plot, iplot"
   ]
  },
  {
   "cell_type": "code",
   "execution_count": null,
   "metadata": {},
   "outputs": [],
   "source": [
    "import cufflinks as cf"
   ]
  },
  {
   "cell_type": "code",
   "execution_count": null,
   "metadata": {},
   "outputs": [],
   "source": [
    "init_notebook_mode(connected=True)"
   ]
  },
  {
   "cell_type": "code",
   "execution_count": null,
   "metadata": {},
   "outputs": [],
   "source": [
    "# offline\n",
    "cf.go_offline()"
   ]
  },
  {
   "cell_type": "code",
   "execution_count": null,
   "metadata": {},
   "outputs": [],
   "source": [
    "pokemon[['Attack','SpecialAttack']].iplot()"
   ]
  },
  {
   "cell_type": "code",
   "execution_count": null,
   "metadata": {},
   "outputs": [],
   "source": [
    "pokemon.iplot(kind = 'scatter', x = 'Attack', y = 'SpecialAttack', mode = 'markers', size = 3)"
   ]
  },
  {
   "cell_type": "code",
   "execution_count": null,
   "metadata": {},
   "outputs": [],
   "source": [
    "pokemon.iplot(kind = 'bar',x = 'Generation', y = 'SpecialAttack')"
   ]
  },
  {
   "cell_type": "code",
   "execution_count": null,
   "metadata": {},
   "outputs": [],
   "source": [
    "pokemon[['Generation', 'SpecialAttack']].iplot(kind = 'box')"
   ]
  },
  {
   "cell_type": "code",
   "execution_count": null,
   "metadata": {},
   "outputs": [],
   "source": [
    "#import all the necessary functions and classes\n",
    "import plotly.express as px\n",
    "import plotly.offline as py\n",
    "py.offline.init_notebook_mode(connected=True)\n",
    "import plotly.graph_objs as go\n",
    "from plotly.figure_factory import create_table"
   ]
  },
  {
   "cell_type": "code",
   "execution_count": null,
   "metadata": {},
   "outputs": [],
   "source": [
    "px.bar(pokemon,x='Generation',y='Attack',height=400) "
   ]
  },
  {
   "cell_type": "code",
   "execution_count": null,
   "metadata": {},
   "outputs": [],
   "source": [
    "px.bar(pokemon,x='Generation',y='Attack',color='SpecialAttack',height=400,\n",
    "      labels={'Attack':'BaseAttack'})   # add color to the barchart to see SpecialAttack and on y axis plot BaseAttack"
   ]
  },
  {
   "cell_type": "code",
   "execution_count": null,
   "metadata": {},
   "outputs": [],
   "source": [
    "px.scatter(pokemon,x='Attack',y='Defense')  "
   ]
  },
  {
   "cell_type": "code",
   "execution_count": null,
   "metadata": {},
   "outputs": [],
   "source": [
    "px.scatter(pokemon,x='Attack',y='Defense', color = 'Generation')"
   ]
  },
  {
   "cell_type": "code",
   "execution_count": null,
   "metadata": {},
   "outputs": [],
   "source": [
    "#draw a bubble plot\n",
    "px.scatter(pokemon,x='Attack',y='Defense', color = 'Type 1', size = 'Generation', size_max = 30)\n"
   ]
  },
  {
   "cell_type": "code",
   "execution_count": null,
   "metadata": {},
   "outputs": [],
   "source": [
    "#add hover name - Type\n",
    "px.scatter(pokemon,x='Attack',y='Defense', color = 'Type 1', size = 'Generation', size_max = 30,\n",
    "          hover_name='Type 2')\n",
    "\n"
   ]
  },
  {
   "cell_type": "code",
   "execution_count": null,
   "metadata": {},
   "outputs": [],
   "source": [
    "#facetplot\n",
    "px.scatter(pokemon,x='Attack',y='Defense', color = 'Type 1', size = 'Generation', size_max = 30,\n",
    "          hover_name='Type 2', facet_col = 'Generation')\n"
   ]
  },
  {
   "cell_type": "code",
   "execution_count": null,
   "metadata": {},
   "outputs": [],
   "source": [
    "#adding animation to bubble plot\n",
    "#facetplot\n",
    "px.scatter(pokemon,x='Attack',y='Defense', color = 'Type 1', size = 'Generation', size_max = 30,\n",
    "          hover_name='Type 2', log_x = True, animation_frame = 'Year', animation_group = 'Generation')\n",
    "\n"
   ]
  },
  {
   "cell_type": "code",
   "execution_count": null,
   "metadata": {},
   "outputs": [],
   "source": []
  }
 ],
 "metadata": {
  "kernelspec": {
   "display_name": "Python 3",
   "language": "python",
   "name": "python3"
  },
  "language_info": {
   "codemirror_mode": {
    "name": "ipython",
    "version": 3
   },
   "file_extension": ".py",
   "mimetype": "text/x-python",
   "name": "python",
   "nbconvert_exporter": "python",
   "pygments_lexer": "ipython3",
   "version": "3.7.4"
  }
 },
 "nbformat": 4,
 "nbformat_minor": 2
}
